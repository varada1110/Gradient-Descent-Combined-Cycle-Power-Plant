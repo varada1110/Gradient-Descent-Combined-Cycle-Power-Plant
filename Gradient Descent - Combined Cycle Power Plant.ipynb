{
 "cells": [
  {
   "cell_type": "code",
   "execution_count": 68,
   "id": "75b1a136",
   "metadata": {},
   "outputs": [],
   "source": [
    "import numpy as np\n",
    "data=np.genfromtxt(\"test_powerplant.csv\",delimiter=\",\")\n",
    "dataset=np.genfromtxt(\"train_powerplant.csv\",delimiter=\",\")\n",
    "dataset.shape\n",
    "x=dataset[:,:-1]\n",
    "y=dataset[:,-1]"
   ]
  },
  {
   "cell_type": "code",
   "execution_count": 69,
   "id": "e676be9b",
   "metadata": {},
   "outputs": [],
   "source": [
    "def step_gradeint(points,learning_rate,m,c):\n",
    "    m_slope=0\n",
    "    c_slope=0\n",
    "    M=len(points)\n",
    "    for i in range(M):\n",
    "        x=points[i,0]\n",
    "        y=points[i,1]\n",
    "        m_slope += (-2/M)*(y-m*x-c)*(x)\n",
    "        c_slope += (-2/M)*(y-m*x-c)\n",
    "    new_m = m - learning_rate*m_slope\n",
    "    new_c = c - learning_rate*c_slope\n",
    "    return new_m,new_c"
   ]
  },
  {
   "cell_type": "code",
   "execution_count": 70,
   "id": "77d8bbe2",
   "metadata": {},
   "outputs": [],
   "source": [
    "def gd(points,learning_rate,num_iterations):\n",
    "    m=0\n",
    "    c=0\n",
    "    for i in range(num_iterations):\n",
    "        m,c=step_gradeint(points,learning_rate,m,c)\n",
    "        print(i,\"Cost:\",cost(points,m,c))\n",
    "    return m,c"
   ]
  },
  {
   "cell_type": "code",
   "execution_count": 71,
   "id": "4bc8b185",
   "metadata": {},
   "outputs": [],
   "source": [
    "def cost(points,m,c):\n",
    "    total_cost=0\n",
    "    M = len(points)\n",
    "    for i in range(M):\n",
    "        x=points[i,0]\n",
    "        y=points[i,1]\n",
    "        total_cost += (1/M)*((y-m*x-c)**2)\n",
    "    return total_cost"
   ]
  },
  {
   "cell_type": "code",
   "execution_count": 72,
   "id": "55acdd49",
   "metadata": {},
   "outputs": [],
   "source": [
    "from sklearn import model_selection\n",
    "X_train,X_test,Y_train,Y_test=model_selection.train_test_split(x,y)"
   ]
  },
  {
   "cell_type": "code",
   "execution_count": 73,
   "id": "364f7ba4",
   "metadata": {},
   "outputs": [],
   "source": [
    "from sklearn.linear_model import LinearRegression\n",
    "alg1 = LinearRegression()\n",
    "alg1.fit(X_train,Y_train)\n",
    "Y_pred = alg1.predict(data) "
   ]
  },
  {
   "cell_type": "code",
   "execution_count": 74,
   "id": "bf6ee885",
   "metadata": {},
   "outputs": [],
   "source": [
    "Y_pred\n",
    "np.savetxt(\"test2_powerplant\",Y_pred,delimiter=\",\",fmt=\"%.5f\")"
   ]
  },
  {
   "cell_type": "code",
   "execution_count": 75,
   "id": "64764989",
   "metadata": {},
   "outputs": [],
   "source": [
    "def run():\n",
    "    data=np.genfromtxt(\"test_powerplant.csv\",delimiter=\",\")\n",
    "    dataset=np.genfromtxt(\"train_powerplant.csv\",delimiter=\",\")\n",
    "    learning_rate=0.001\n",
    "    num_iterations=60\n",
    "    m,c=gd(data,learning_rate,num_iterations)\n",
    "    print(m,c)"
   ]
  },
  {
   "cell_type": "code",
   "execution_count": 76,
   "id": "8a7694c6",
   "metadata": {},
   "outputs": [
    {
     "name": "stdout",
     "output_type": "stream",
     "text": [
      "0 Cost: 167.08029687196824\n",
      "1 Cost: 130.2220776951372\n",
      "2 Cost: 129.7210759051232\n",
      "3 Cost: 129.67447807241865\n",
      "4 Cost: 129.63357907865742\n",
      "5 Cost: 129.59277110070008\n",
      "6 Cost: 129.55198404354505\n",
      "7 Cost: 129.51121702144872\n",
      "8 Cost: 129.47047001363345\n",
      "9 Cost: 129.429743010137\n",
      "10 Cost: 129.38903600113613\n",
      "11 Cost: 129.34834897681506\n",
      "12 Cost: 129.30768192736286\n",
      "13 Cost: 129.267034842973\n",
      "14 Cost: 129.22640771384343\n",
      "15 Cost: 129.1858005301773\n",
      "16 Cost: 129.14521328218328\n",
      "17 Cost: 129.10464596007333\n",
      "18 Cost: 129.06409855406577\n",
      "19 Cost: 129.02357105438273\n",
      "20 Cost: 128.98306345125113\n",
      "21 Cost: 128.9425757349031\n",
      "22 Cost: 128.90210789557574\n",
      "23 Cost: 128.86165992351042\n",
      "24 Cost: 128.82123180895337\n",
      "25 Cost: 128.78082354215545\n",
      "26 Cost: 128.74043511337362\n",
      "27 Cost: 128.7000665128678\n",
      "28 Cost: 128.65971773090413\n",
      "29 Cost: 128.61938875775218\n",
      "30 Cost: 128.57907958368753\n",
      "31 Cost: 128.53879019898935\n",
      "32 Cost: 128.49852059394368\n",
      "33 Cost: 128.45827075883844\n",
      "34 Cost: 128.41804068396823\n",
      "35 Cost: 128.37783035963247\n",
      "36 Cost: 128.33763977613415\n",
      "37 Cost: 128.29746892378228\n",
      "38 Cost: 128.25731779288918\n",
      "39 Cost: 128.21718637377404\n",
      "40 Cost: 128.17707465675858\n",
      "41 Cost: 128.13698263217069\n",
      "42 Cost: 128.09691029034272\n",
      "43 Cost: 128.05685762161136\n",
      "44 Cost: 128.0168246163184\n",
      "45 Cost: 127.97681126481028\n",
      "46 Cost: 127.93681755743782\n",
      "47 Cost: 127.89684348455765\n",
      "48 Cost: 127.85688903652989\n",
      "49 Cost: 127.81695420372021\n",
      "50 Cost: 127.77703897649806\n",
      "51 Cost: 127.73714334523945\n",
      "52 Cost: 127.69726730032289\n",
      "53 Cost: 127.65741083213298\n",
      "54 Cost: 127.61757393105931\n",
      "55 Cost: 127.57775658749536\n",
      "56 Cost: 127.5379587918386\n",
      "57 Cost: 127.49818053449336\n",
      "58 Cost: 127.45842180586689\n",
      "59 Cost: 127.41868259637243\n",
      "2.5722862742646715 0.49584096080680073\n"
     ]
    }
   ],
   "source": [
    "run()"
   ]
  },
  {
   "cell_type": "code",
   "execution_count": null,
   "id": "b3fb9e8a",
   "metadata": {},
   "outputs": [],
   "source": []
  }
 ],
 "metadata": {
  "kernelspec": {
   "display_name": "Python 3",
   "language": "python",
   "name": "python3"
  },
  "language_info": {
   "codemirror_mode": {
    "name": "ipython",
    "version": 3
   },
   "file_extension": ".py",
   "mimetype": "text/x-python",
   "name": "python",
   "nbconvert_exporter": "python",
   "pygments_lexer": "ipython3",
   "version": "3.8.8"
  }
 },
 "nbformat": 4,
 "nbformat_minor": 5
}
